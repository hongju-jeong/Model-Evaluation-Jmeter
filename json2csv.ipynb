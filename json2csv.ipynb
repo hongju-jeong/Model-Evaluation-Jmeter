{
 "cells": [
  {
   "cell_type": "code",
   "execution_count": 1,
   "metadata": {},
   "outputs": [
    {
     "name": "stdout",
     "output_type": "stream",
     "text": [
      "{'index': 0, 'q': '문자보낼때 보호자연락처, 번호 추가 가능 여부와 이미지 발송은?', 'a': '{\\n \"message\": \"문자 발송 시보호자 연락처는입소자관리카드의 전화번호가 연계됩니다.\\'SMS 보호자현황 등록여부\\' 에 체크하면 SMS관리 주소록-보호자현황에 자동 연계됩니다.보내는 이의 전화번호는 기관 전화번호가 기본이며\\n그 외 보내는 사람 번호 추가는 SMS-문자발신번호관리에서 가능합니다. 기관에서 추가, 삭제 관리 할 수 있습니다. 문자는 단문, 장문, 이미지 모두 가능합니다.LMS/ MMS에 체크하면 첨부 파일을 발송할 수 있는 부분이 표시됩니다.항상 앞서가는 엔젤시스템입니다.감사합니다.\"\\n}'}\n",
      "644\n"
     ]
    }
   ],
   "source": [
    "import json\n",
    "import pandas as pd\n",
    "\n",
    "json_file = open(\"faq.json\", \"r\", encoding=\"utf-8\")\n",
    "json_data = json.load(json_file)\n",
    "\n",
    "print(json_data[\"data\"][0])\n",
    "print(len(json_data[\"data\"]))"
   ]
  },
  {
   "cell_type": "code",
   "execution_count": 2,
   "metadata": {},
   "outputs": [],
   "source": [
    "faq = pd.DataFrame(columns=(\"question\",\"answer\"))\n",
    "\n",
    "\n",
    "for i in range(len(json_data[\"data\"])):\n",
    "    faq.loc[i] = [json_data[\"data\"][i][\"q\"],json_data[\"data\"][i][\"a\"]]"
   ]
  },
  {
   "cell_type": "code",
   "execution_count": 3,
   "metadata": {},
   "outputs": [
    {
     "name": "stdout",
     "output_type": "stream",
     "text": [
      "                                              question  \\\n",
      "0                  문자보낼때 보호자연락처, 번호 추가 가능 여부와 이미지 발송은?   \n",
      "1                              간호일지 생성시 투약일지가 생성이 안돼요.   \n",
      "2                        구강관리는 꼭 해야 하며 관리 주기는 어떻게 되나요?   \n",
      "3             틀니인 경우 구강관리에서 '정상' 과 '치아없음' 중 어디에 체크하나요?   \n",
      "4                         보호자 또는 어르신이 계약의사 진료를 거부하는 경우   \n",
      "..                                                 ...   \n",
      "639            계약의사 한시적 전화상담으로 인한 진찰비용 청구는 언제부터 가능한가요?   \n",
      "640              계약의사가 전화상담으로 처방전을 발행한 경우 원외처방전 발급비용은?   \n",
      "641  계약의사 진찰비용 청구의 경우 직역이 다를 경우 월1회 추가 산정이 가능한데 한시적...   \n",
      "642                   전화상담의 경우에도 계약의사의 방문비용 청구가 가능한가요?   \n",
      "643  시설의 수급자와 종사자 중 확진자로 시설외의 타 장소에 함께 격리 되었을 경우에 노...   \n",
      "\n",
      "                                                answer  \n",
      "0    {\\n \"message\": \"문자 발송 시보호자 연락처는입소자관리카드의 전화번호가 ...  \n",
      "1    {\\n \"message\": \"해당 날짜의 투약일지에서 투약여부에 체크되었는지 확인합...  \n",
      "2    {\\n \"message\": \"노인요양시설은 2016년 7월부터 매월 입소자의 구강건...  \n",
      "3    {\\n \"message\": \"구강관리의 목적은 입소 어르신의 구강질환(이, 잇몸 등...  \n",
      "4    {\\n \"message\": \"계약의사는 월 2회 (2016년 9월 6일 이전에는 2...  \n",
      "..                                                 ...  \n",
      "639  {\\n \"message\": \"계약의사의 한시적 전화상담을 통한 운영은 3월1일부터 ...  \n",
      "640  {\\n \"message\": \"계약의사는 간호 인력과 전화상담을 통해 수급자의 건강상...  \n",
      "641  {\\n \"message\": \"네 가능합니다. 한시적 전화상담으로 처방전이 발행된 경...  \n",
      "642  {\\n \"message\": \"방문비용은 계약의사가 시설을 방문하여 진찰한 경우 산정...  \n",
      "643  {\\n \"message\": \"불가능합니다. 수급자와 종사자가 모두 격리가 된 경우나...  \n",
      "\n",
      "[644 rows x 2 columns]\n"
     ]
    }
   ],
   "source": [
    "print(faq)"
   ]
  },
  {
   "cell_type": "code",
   "execution_count": 4,
   "metadata": {},
   "outputs": [],
   "source": [
    "file_name = \"./faq.csv\"\n",
    "faq.to_csv(file_name, index=False, encoding='utf-8-sig')"
   ]
  },
  {
   "cell_type": "code",
   "execution_count": null,
   "metadata": {},
   "outputs": [],
   "source": []
  }
 ],
 "metadata": {
  "kernelspec": {
   "display_name": "env39",
   "language": "python",
   "name": "python3"
  },
  "language_info": {
   "codemirror_mode": {
    "name": "ipython",
    "version": 3
   },
   "file_extension": ".py",
   "mimetype": "text/x-python",
   "name": "python",
   "nbconvert_exporter": "python",
   "pygments_lexer": "ipython3",
   "version": "3.9.16 (main, Dec  7 2022, 01:12:08) \n[GCC 11.3.0]"
  },
  "orig_nbformat": 4,
  "vscode": {
   "interpreter": {
    "hash": "07e4cadc40b6c63446faa34e60c0f954f58c0f40538d10c69b532efadf4eaffc"
   }
  }
 },
 "nbformat": 4,
 "nbformat_minor": 2
}
